{
 "cells": [
  {
   "cell_type": "code",
   "execution_count": 22,
   "metadata": {},
   "outputs": [
    {
     "name": "stdout",
     "output_type": "stream",
     "text": [
      "1700円 500税\n"
     ]
    }
   ],
   "source": [
    "def add_two_arguments(price, tax):\n",
    "    # 与えられた引数priceと引数shipping_feeを加算し、変数totalに代入する\n",
    "    total = price + tax\n",
    "\n",
    "    # 変数$totalの値を出力する\n",
    "    print(f\"{total}円 {tax}税\")\n",
    "\n",
    "add_two_arguments(1200, 500)"
   ]
  },
  {
   "cell_type": "markdown",
   "metadata": {},
   "source": []
  },
  {
   "cell_type": "code",
   "execution_count": 8,
   "metadata": {},
   "outputs": [
    {
     "ename": "TypeError",
     "evalue": "add_two_arguments() missing 1 required positional argument: 'tax'",
     "output_type": "error",
     "traceback": [
      "\u001b[31m---------------------------------------------------------------------------\u001b[39m",
      "\u001b[31mTypeError\u001b[39m                                 Traceback (most recent call last)",
      "\u001b[36mCell\u001b[39m\u001b[36m \u001b[39m\u001b[32mIn[8]\u001b[39m\u001b[32m, line 10\u001b[39m\n\u001b[32m      7\u001b[39m     \u001b[38;5;28mprint\u001b[39m(\u001b[33mf\u001b[39m\u001b[33m\"\u001b[39m\u001b[38;5;132;01m{\u001b[39;00mtotal\u001b[38;5;132;01m}\u001b[39;00m\u001b[33m円\u001b[39m\u001b[33m\"\u001b[39m)\n\u001b[32m      9\u001b[39m \u001b[38;5;66;03m# 関数を呼び出し、引数として購入金額と送料を渡す\u001b[39;00m\n\u001b[32m---> \u001b[39m\u001b[32m10\u001b[39m \u001b[43madd_two_arguments\u001b[49m\u001b[43m(\u001b[49m\u001b[32;43m110\u001b[39;49m\u001b[43m)\u001b[49m\n",
      "\u001b[31mTypeError\u001b[39m: add_two_arguments() missing 1 required positional argument: 'tax'"
     ]
    }
   ],
   "source": [
    "def add_two_arguments(price, tax):\n",
    "    # 与えられた引数priceと引数shipping_feeを加算し、変数totalに代入する\n",
    "    tax = price * 0.1\n",
    "    total = price + tax\n",
    "\n",
    "    # 変数$totalの値を出力する\n",
    "    print(f\"{total}円\")\n",
    "\n",
    "# 関数を呼び出し、引数として購入金額と送料を渡す\n",
    "add_two_arguments(110)"
   ]
  },
  {
   "cell_type": "code",
   "execution_count": 11,
   "metadata": {},
   "outputs": [
    {
     "name": "stdout",
     "output_type": "stream",
     "text": [
      "121.0円\n"
     ]
    }
   ],
   "source": [
    "def calculate_total(price):\n",
    "    # 与えられた引数priceと引数shipping_feeを加算し、変数totalに代入する\n",
    "    tax = price * 0.1\n",
    "    total = price + tax\n",
    "\n",
    "    # 変数$totalの値を出力する\n",
    "    print(f\"{total}円\")\n",
    "\n",
    "# 関数を呼び出し、引数として購入金額と送料を渡す\n",
    "calculate_total(110)"
   ]
  },
  {
   "cell_type": "code",
   "execution_count": 12,
   "metadata": {},
   "outputs": [],
   "source": [
    "def add_two_arguments(price, tax):\n",
    "    # 与えられた引数priceと引数shipping_feeを加算し、変数totalに代入する\n",
    "    total = price + tax\n",
    "\n",
    "    # 変数$totalの値を出力する\n",
    "    print(f\"{total}円\")\n",
    "    add_two_arguments(110, 500)"
   ]
  },
  {
   "cell_type": "code",
   "execution_count": 13,
   "metadata": {},
   "outputs": [
    {
     "name": "stdout",
     "output_type": "stream",
     "text": [
      "商品の金額: 110円\n",
      "消費税率: 10%\n",
      "税込価格: 121円\n"
     ]
    }
   ],
   "source": [
    "def calculate_total_price(price, tax_rate):\n",
    "    \"\"\"\n",
    "    商品の金額と消費税率を受け取り、税込価格を計算して返す関数\n",
    "    :param price: 商品の金額（整数または浮動小数点数）\n",
    "    :param tax_rate: 消費税率（%単位の整数）\n",
    "    :return: 消費税を加えた税込価格（浮動小数点数）\n",
    "    \"\"\"\n",
    "    tax_amount = price * (tax_rate / 100)  # 消費税額を計算\n",
    "    total_price = price + tax_amount  # 税込価格を計算\n",
    "    return total_price  # 税込価格を戻り値として返す\n",
    "\n",
    "# 商品の金額 110円、消費税 10%\n",
    "price = 110\n",
    "tax_rate = 10\n",
    "\n",
    "# 関数を呼び出して税込価格を計算\n",
    "total = calculate_total_price(price, tax_rate)\n",
    "\n",
    "# 結果を出力\n",
    "print(f\"商品の金額: {price}円\")\n",
    "print(f\"消費税率: {tax_rate}%\")\n",
    "print(f\"税込価格: {total:.0f}円\")  # 小数点以下を表示しない"
   ]
  },
  {
   "cell_type": "code",
   "execution_count": null,
   "metadata": {},
   "outputs": [],
   "source": []
  }
 ],
 "metadata": {
  "kernelspec": {
   "display_name": "Python 3",
   "language": "python",
   "name": "python3"
  },
  "language_info": {
   "codemirror_mode": {
    "name": "ipython",
    "version": 3
   },
   "file_extension": ".py",
   "mimetype": "text/x-python",
   "name": "python",
   "nbconvert_exporter": "python",
   "pygments_lexer": "ipython3",
   "version": "3.13.2"
  }
 },
 "nbformat": 4,
 "nbformat_minor": 2
}
