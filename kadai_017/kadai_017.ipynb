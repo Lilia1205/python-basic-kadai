{
 "cells": [
  {
   "cell_type": "code",
   "execution_count": 2,
   "metadata": {},
   "outputs": [
    {
     "name": "stdout",
     "output_type": "stream",
     "text": [
      "太郎 は大人です。\n",
      "花子 は大人ではありません。\n",
      "次郎 は大人です。\n"
     ]
    }
   ],
   "source": [
    "class Human:\n",
    "    def __init__(self, name, age):\n",
    "        self.name = name  # 名前\n",
    "        self.age = age    # 年齢\n",
    "\n",
    "    def check_adult(self):\n",
    "        if self.age >= 20:\n",
    "            print(f\"{self.name} は大人です。\")\n",
    "        else:\n",
    "            print(f\"{self.name} は大人ではありません。\")\n",
    "\n",
    "\n",
    "# インスタンスを複数作成してリストに追加\n",
    "humans = [\n",
    "    Human(\"太郎\", 25),\n",
    "    Human(\"花子\", 18),\n",
    "    Human(\"次郎\", 20)\n",
    "]\n",
    "\n",
    "# リストの各インスタンスに対してcheck_adultを呼び出す\n",
    "for person in humans:\n",
    "    person.check_adult()\n",
    "\n",
    "\n"
   ]
  },
  {
   "cell_type": "code",
   "execution_count": null,
   "metadata": {},
   "outputs": [],
   "source": []
  }
 ],
 "metadata": {
  "kernelspec": {
   "display_name": "Python 3",
   "language": "python",
   "name": "python3"
  },
  "language_info": {
   "codemirror_mode": {
    "name": "ipython",
    "version": 3
   },
   "file_extension": ".py",
   "mimetype": "text/x-python",
   "name": "python",
   "nbconvert_exporter": "python",
   "pygments_lexer": "ipython3",
   "version": "3.13.2"
  }
 },
 "nbformat": 4,
 "nbformat_minor": 2
}
