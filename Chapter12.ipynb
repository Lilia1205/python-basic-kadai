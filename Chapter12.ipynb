{
 "cells": [
  {
   "cell_type": "code",
   "execution_count": 1,
   "metadata": {},
   "outputs": [],
   "source": [
    "import openpyxl\n",
    "import pandas as pd\n",
    "from openpyxl.chart import (\n",
    "    BarChart,\n",
    "    Reference,\n",
    "    Series,\n",
    ")\n",
    "from openpyxl.chart.label import DataLabelList"
   ]
  },
  {
   "cell_type": "code",
   "execution_count": 2,
   "metadata": {},
   "outputs": [],
   "source": [
    "# 【ワーク①】売上管理の集計結果を「売上管理」シートに書き出す\n",
    "\n",
    "# データフレームを作成する\n",
    "df = pd.DataFrame(data={\n",
    "    '商品名': ['人気商品A', '商品B', '人気商品C', '人気商品A', '商品B', '商品D'],\n",
    "    '売上金額': [1000, 2000, 3000, 4000, 5000, 6000],\n",
    "    '売上コスト': [800, 1500, 2400, 800, 1500, 2200] \n",
    "})\n",
    "\n"
   ]
  },
  {
   "cell_type": "code",
   "execution_count": 3,
   "metadata": {},
   "outputs": [],
   "source": [
    "# 商品ごとに売上金額と売上コストを合計\n",
    "grouped = df.groupby('商品名').agg({'売上金額': 'sum', '売上コスト': 'sum'})\n",
    "\n",
    "# 利益率を求める\n",
    "grouped['利益率'] = ((grouped['売上金額'] - grouped['売上コスト']) / grouped['売上金額']) * 100\n",
    "\n"
   ]
  },
  {
   "cell_type": "code",
   "execution_count": 4,
   "metadata": {},
   "outputs": [],
   "source": [
    "# Excelファイルを作成する\n",
    "writer = pd.ExcelWriter('売上管理表.xlsx')\n",
    "\n",
    "# DataFrameオブジェクトをExcelファイルに書き込む\n",
    "grouped.to_excel(writer, sheet_name='売上管理', index=True)\n"
   ]
  },
  {
   "cell_type": "code",
   "execution_count": 5,
   "metadata": {},
   "outputs": [
    {
     "name": "stdout",
     "output_type": "stream",
     "text": [
      "       売上金額  売上コスト        利益率\n",
      "商品名                          \n",
      "人気商品A  5000   1600  68.000000\n",
      "人気商品C  3000   2400  20.000000\n",
      "商品B    7000   3000  57.142857\n",
      "商品D    6000   2200  63.333333\n"
     ]
    }
   ],
   "source": [
    "print(grouped)\n"
   ]
  },
  {
   "cell_type": "code",
   "execution_count": 6,
   "metadata": {},
   "outputs": [],
   "source": [
    "# 【ワーク②】人気商品の抽出結果を「人気商品」シートに書き出す\n",
    "\n",
    "# データフレームから「人気」とついている商品を抽出\n",
    "popular_items = df[df['商品名'].str.contains('人気')]\n",
    "\n",
    "# Excelファイルに抽出結果を追加\n",
    "popular_items.to_excel(writer, sheet_name='人気商品', index=False)\n",
    "\n",
    "# Excelファイルを閉じる\n",
    "writer.close()\n"
   ]
  },
  {
   "cell_type": "code",
   "execution_count": 7,
   "metadata": {},
   "outputs": [
    {
     "name": "stdout",
     "output_type": "stream",
     "text": [
      "     商品名  売上金額  売上コスト\n",
      "0  人気商品A  1000    800\n",
      "2  人気商品C  3000   2400\n",
      "3  人気商品A  4000    800\n"
     ]
    }
   ],
   "source": [
    "print(popular_items)\n"
   ]
  },
  {
   "cell_type": "code",
   "execution_count": 8,
   "metadata": {},
   "outputs": [],
   "source": [
    "# Excelファイルの読み込み\n",
    "book = openpyxl.load_workbook('売上管理表.xlsx')\n",
    "\n",
    "# ワークシートの選択\n",
    "sheet = book.active\n",
    "\n",
    "# データの読み込み\n",
    "data2 = sheet.values\n",
    "\n",
    "# ヘッダーの読み込み\n",
    "cols = next(data2)\n",
    "\n",
    "# データフレームの作成\n",
    "df = pd.DataFrame(data2, columns=cols)"
   ]
  },
  {
   "cell_type": "code",
   "execution_count": 9,
   "metadata": {},
   "outputs": [],
   "source": [
    "\n",
    "# '売上高グラフ'という名前の新しいシートをExcelブックに作成する\n",
    "sheet1 = book.create_sheet('売上高グラフ')\n",
    "\n",
    "# 棒グラフのオブジェクトを作成する\n",
    "chart1 = BarChart()"
   ]
  },
  {
   "cell_type": "code",
   "execution_count": 10,
   "metadata": {},
   "outputs": [],
   "source": [
    "# グラフのタイトルを設定する\n",
    "chart1.title = '商品別売上高'\n",
    "# グラフのラベルとして使用するデータをExcelシートから参照する\n",
    "# ここでは、1列目の2行目から最終行までをラベルとして使用する\n",
    "labels = Reference(sheet, min_col=1, min_row=2, max_row=df.shape[0]+1)\n",
    "# グラフにプロットするデータをExcelシートから参照する\n",
    "# ここでは、2列目の2行目から最終行までをデータとして使用する\n",
    "data = Reference(sheet, min_col=2, min_row=2, max_row=df.shape[0]+1)\n",
    "# 参照したデータをグラフのデータ（Series）として設定する\n",
    "series = Series(data)\n",
    "# グラフにデータ（Series）を追加する\n",
    "chart1.series.append(series)\n",
    "# グラフのカテゴリ（x軸）を設定する\n",
    "# ここではラベルとして指定したものと同じ範囲を使用する\n",
    "category_reference = openpyxl.chart.Reference(\n",
    "    sheet, \n",
    "    min_col=1, \n",
    "    min_row=2, \n",
    "    max_row=df.shape[0] + 1\n",
    ")\n",
    "# グラフのカテゴリを設定する\n",
    "chart1.set_categories(category_reference)\n",
    "\n",
    "# 作成したグラフを新しく作成したシートのA1セル位置に追加する\n",
    "sheet1.add_chart(chart1, 'A1')"
   ]
  },
  {
   "cell_type": "code",
   "execution_count": 11,
   "metadata": {},
   "outputs": [],
   "source": [
    "# Excelファイルを保存\n",
    "book.save('売上管理表.xlsx')"
   ]
  },
  {
   "cell_type": "code",
   "execution_count": 13,
   "metadata": {},
   "outputs": [],
   "source": [
    "# '利益率グラフ'という名前の新しいシートをExcelブックに作成する\n",
    "sheet2 = book.create_sheet('利益率グラフ')\n",
    "\n",
    "# 棒グラフのオブジェクトを作成する\n",
    "chart2 = BarChart()\n",
    "\n",
    "# グラフのタイトルを設定する\n",
    "chart2.title = '商品別利益率'\n",
    "\n",
    "# グラフのラベルとして使用するデータをExcelシートから参照する\n",
    "# ここでは、1列目の2行目から最終行までをラベルとして使用する\n",
    "labels = Reference(sheet, min_col=1, min_row=2, max_row=df.shape[0] + 1)\n",
    "\n",
    "# グラフにプロットするデータをExcelシートから参照する\n",
    "# ここでは、4列目の2行目から最終行までをデータとして使用する（利益率）\n",
    "data = Reference(sheet, min_col=4, min_row=2, max_row=df.shape[0] + 1)\n",
    "\n",
    "# 参照したデータをグラフのデータ（Series）として設定する\n",
    "series = Series(data)\n",
    "\n",
    "# グラフにデータ（Series）を追加する\n",
    "chart2.series.append(series)\n",
    "\n",
    "# グラフのカテゴリ（x軸）を設定する\n",
    "# ここではラベルとして指定したものと同じ範囲を使用する\n",
    "category_reference = openpyxl.chart.Reference(\n",
    "    sheet, \n",
    "    min_col=1, \n",
    "    min_row=2, \n",
    "    max_row=df.shape[0] + 1\n",
    ")\n",
    "\n",
    "# グラフのカテゴリを設定する\n",
    "chart2.set_categories(category_reference)\n",
    "\n",
    "# 作成したグラフを新しく作成したシートのA1セル位置に追加する\n",
    "sheet2.add_chart(chart2, 'A1')"
   ]
  },
  {
   "cell_type": "code",
   "execution_count": 14,
   "metadata": {},
   "outputs": [],
   "source": [
    "# Excelファイルを保存\n",
    "book.save('売上管理表.xlsx')"
   ]
  },
  {
   "cell_type": "code",
   "execution_count": null,
   "metadata": {},
   "outputs": [],
   "source": []
  }
 ],
 "metadata": {
  "kernelspec": {
   "display_name": "Python 3",
   "language": "python",
   "name": "python3"
  },
  "language_info": {
   "codemirror_mode": {
    "name": "ipython",
    "version": 3
   },
   "file_extension": ".py",
   "mimetype": "text/x-python",
   "name": "python",
   "nbconvert_exporter": "python",
   "pygments_lexer": "ipython3",
   "version": "3.13.2"
  }
 },
 "nbformat": 4,
 "nbformat_minor": 2
}
